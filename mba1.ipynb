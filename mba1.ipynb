{
 "cells": [
  {
   "cell_type": "code",
   "execution_count": 18,
   "id": "bc98ffc6",
   "metadata": {},
   "outputs": [],
   "source": [
    "import pandas as pd\n",
    "import numpy as np"
   ]
  },
  {
   "cell_type": "code",
   "execution_count": 19,
   "id": "761524fb",
   "metadata": {},
   "outputs": [],
   "source": [
    "df = pd.read_csv(\"data.csv\", low_memory=False).drop([\"Unnamed: 0\"], axis=1)"
   ]
  },
  {
   "cell_type": "code",
   "execution_count": 26,
   "id": "2eaf2029",
   "metadata": {},
   "outputs": [
    {
     "name": "stderr",
     "output_type": "stream",
     "text": [
      "C:\\Users\\ermol\\AppData\\Local\\Temp\\ipykernel_18272\\3200605496.py:8: SettingWithCopyWarning: \n",
      "A value is trying to be set on a copy of a slice from a DataFrame\n",
      "\n",
      "See the caveats in the documentation: https://pandas.pydata.org/pandas-docs/stable/user_guide/indexing.html#returning-a-view-versus-a-copy\n",
      "  df_mba.dropna(inplace=True)\n"
     ]
    },
    {
     "name": "stdout",
     "output_type": "stream",
     "text": [
      "Rule:  -> МГТ\n",
      "Support: 0.8745\n",
      "Confidence: 0.8745\n",
      "Lift: 1.0000\n",
      "\n"
     ]
    }
   ],
   "source": [
    "from apyori import apriori\n",
    "\n",
    "# Выбор подходящих столбцов для анализа\n",
    "df_mba = df[['НомерЗаказаНаСайте', 'ТипТовара']]\n",
    "# df_mba = df_mba[:100000]\n",
    "\n",
    "# Удаление строк с отсутствующими значениями\n",
    "df_mba.dropna(inplace=True)\n",
    "\n",
    "# Преобразование DataFrame в список транзакций\n",
    "transactions = df_mba.groupby('НомерЗаказаНаСайте')['ТипТовара'].apply(list).values.tolist()\n",
    "\n",
    "# Применение алгоритма Apriori\n",
    "min_support = 0.05\n",
    "min_confidence = 0.5\n",
    "rules = apriori(transactions, min_support=min_support, min_confidence=min_confidence)\n",
    "\n",
    "# Вывод результатов\n",
    "for rule in rules:\n",
    "    antecedent = ', '.join([str(item) for item in rule[2][0][0]])\n",
    "    consequent = ', '.join([str(item) for item in rule[2][0][1]]) if rule[2][0][1] else \"None\"\n",
    "    support = rule[1]\n",
    "    confidence = rule[2][0][2]\n",
    "    lift = rule[2][0][3]\n",
    "    print(f\"Rule: {antecedent} -> {consequent}\")\n",
    "    print(f\"Support: {support:.4f}\")\n",
    "    print(f\"Confidence: {confidence:.4f}\")\n",
    "    print(f\"Lift: {lift:.4f}\")\n",
    "    print()"
   ]
  },
  {
   "cell_type": "markdown",
   "id": "a9fca72c",
   "metadata": {},
   "source": [
    "Это правило говорит о том, что когда нет никакого предшествующего товара (антецедента), то существует высокая поддержка (0.8745) для покупки товара \"МГТ\" (консеквента). Поддержка указывает на то, как часто данное правило встречается в данных.\n",
    "\n",
    "Доверие (confidence) для этого правила также составляет 0.8745, что означает, что в 87.45% случаев, когда нет предшествующего товара, покупается товар \"МГТ\". Доверие указывает на вероятность, что консеквент будет приобретен при условии наличия антецедента.\n",
    "\n",
    "Lift равен 1.0000, что означает, что покупка товара \"МГТ\" не зависит от наличия или отсутствия других товаров. Lift показывает, насколько сильно правило связано с покупкой консеквента в сравнении с случайной покупкой. Значение 1.0000 указывает на отсутствие связи между антецедентом и консеквентом."
   ]
  },
  {
   "cell_type": "code",
   "execution_count": null,
   "id": "0bfa7a3f",
   "metadata": {},
   "outputs": [],
   "source": []
  }
 ],
 "metadata": {
  "kernelspec": {
   "display_name": "Python 3 (ipykernel)",
   "language": "python",
   "name": "python3"
  },
  "language_info": {
   "codemirror_mode": {
    "name": "ipython",
    "version": 3
   },
   "file_extension": ".py",
   "mimetype": "text/x-python",
   "name": "python",
   "nbconvert_exporter": "python",
   "pygments_lexer": "ipython3",
   "version": "3.9.10"
  }
 },
 "nbformat": 4,
 "nbformat_minor": 5
}
